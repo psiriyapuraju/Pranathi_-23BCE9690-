{
 "cells": [
  {
   "cell_type": "code",
   "execution_count": 15,
   "id": "c894b348",
   "metadata": {},
   "outputs": [
    {
     "name": "stdout",
     "output_type": "stream",
     "text": [
      "Heyy!! What is your name?\n",
      "Pranathi\n",
      "Hello Pranathi!\n",
      "Is there anything I can help you with?\n",
      "No.\n",
      "Okay then. Enter 'Bye' to exit the chat bot.\n",
      "Bye\n",
      "Bye Pranathi!\n"
     ]
    }
   ],
   "source": [
    "print('Heyy!! What is your name?')\n",
    "a = str(input())\n",
    "print('Hello ' + a + '!')\n",
    "print('Is there anything I can help you with?')\n",
    "b = str(input())\n",
    "while True:\n",
    "    if ('Yes' or 'Yeah') in b:\n",
    "        print('Can you elaborate about your problem?')\n",
    "        c = str(input())\n",
    "        if 'sign-in' in c:\n",
    "            print(\"Then you might've logged in on other device. Just check for the message below sign-in button. You can resolve this by logging out of another device.\")\n",
    "            d = str(input())\n",
    "            if 'not signed in on other device' in d:\n",
    "                print(\"Try meeting us in our office or try contacting us on this phone number: +91 ##### #####.\")\n",
    "                print(\"Okay then. Enter 'Bye' to exit the chat bot.\")\n",
    "                e = str(input())\n",
    "                if ('Bye') in e:\n",
    "                    print('Bye ' + a + '!')\n",
    "            else:\n",
    "                print(\"Okay then. Enter 'Bye' to exit the chat bot.\")\n",
    "                e = str(input())\n",
    "                if ('Bye') in e:\n",
    "                    print('Bye ' + a + '!')\n",
    "        elif 'forgot my password' in c:\n",
    "            print(\"Try clicking on the link 'Forgot Password' and change to the one you might remember.\")\n",
    "            print(\"Okay then. Enter 'Bye' to exit the chat bot.\")\n",
    "            e = str(input())\n",
    "            if ('Bye') in e:\n",
    "                print('Bye ' + a + '!')\n",
    "        elif 'Wi-Fi router problem' in c:\n",
    "            print('Try contacting us on this number: +91 ##### #####. And then, wait for an hour or so, till we inform you.')\n",
    "            print(\"Okay then. Enter 'Bye' to exit the chat bot.\")\n",
    "            e = str(input())\n",
    "            if ('Bye') in e:\n",
    "                print('Bye ' + a + '!')\n",
    "        elif 'other' in c:\n",
    "            print(\"Try meeting us in our office or try contacting us on this phone number: +91 ##### #####.\")\n",
    "            print(\"Okay then. Enter 'Bye' to exit the chat bot.\")\n",
    "            e = str(input())\n",
    "            if ('Bye') in e:\n",
    "                print('Bye ' + a + '!')\n",
    "    elif ('No' or 'Nope') in b:\n",
    "        print(\"Okay then. Enter 'Bye' to exit the chat bot.\")\n",
    "        e = str(input())\n",
    "        if ('Bye') in e:\n",
    "            print('Bye ' + a + '!')\n",
    "    break"
   ]
  },
  {
   "cell_type": "code",
   "execution_count": null,
   "id": "f4266845",
   "metadata": {},
   "outputs": [],
   "source": []
  }
 ],
 "metadata": {
  "kernelspec": {
   "display_name": "Python 3 (ipykernel)",
   "language": "python",
   "name": "python3"
  },
  "language_info": {
   "codemirror_mode": {
    "name": "ipython",
    "version": 3
   },
   "file_extension": ".py",
   "mimetype": "text/x-python",
   "name": "python",
   "nbconvert_exporter": "python",
   "pygments_lexer": "ipython3",
   "version": "3.11.4"
  }
 },
 "nbformat": 4,
 "nbformat_minor": 5
}
